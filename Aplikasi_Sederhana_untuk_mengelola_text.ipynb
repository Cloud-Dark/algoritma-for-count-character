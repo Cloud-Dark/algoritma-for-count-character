{
  "cells": [
    {
      "cell_type": "markdown",
      "metadata": {
        "id": "view-in-github",
        "colab_type": "text"
      },
      "source": [
        "<a href=\"https://colab.research.google.com/github/Cloud-Dark/algoritma-for-count-character/blob/main/Aplikasi_Sederhana_untuk_mengelola_text.ipynb\" target=\"_parent\"><img src=\"https://colab.research.google.com/assets/colab-badge.svg\" alt=\"Open In Colab\"/></a>"
      ]
    },
    {
      "cell_type": "markdown",
      "metadata": {
        "id": "Nma_JWh-W-IF"
      },
      "source": [
        "<div class=\"markdown-google-sans\">\n",
        "  <h1>Aplikasi Sederhana untuk mengelola text</h1>\n",
        "</div>\n",
        "\n",
        "\n"
      ]
    },
    {
      "cell_type": "markdown",
      "source": [
        "Fungsi untuk preprocessing"
      ],
      "metadata": {
        "id": "4vwGBm7KFEbf"
      }
    },
    {
      "cell_type": "code",
      "source": [
        "def removeSpaces(inputStr):\n",
        "    return inputStr.replace(\" \", \"\")\n",
        "\n",
        "def changetolowercase(input):\n",
        "    return input.lower()"
      ],
      "metadata": {
        "id": "1OhUjQC0FDvV"
      },
      "execution_count": 1,
      "outputs": []
    },
    {
      "cell_type": "markdown",
      "source": [
        "Buat fungsi untuk menghitung karakter dan kembalikan dalam bentuk array"
      ],
      "metadata": {
        "id": "yevjsyYPEq73"
      }
    },
    {
      "cell_type": "code",
      "source": [
        "def countCharacters(inputStr):\n",
        "    pecahtext = {}\n",
        "    for char in inputStr:\n",
        "        if char in pecahtext:\n",
        "            pecahtext[char] += 1\n",
        "        else:\n",
        "            pecahtext[char] = 1\n",
        "    return pecahtext"
      ],
      "metadata": {
        "id": "y0MWSNiqEokG"
      },
      "execution_count": 2,
      "outputs": []
    },
    {
      "cell_type": "markdown",
      "source": [
        "Buat fungsi untuk mencetak data dari array"
      ],
      "metadata": {
        "id": "88LAlL5WEzTA"
      }
    },
    {
      "cell_type": "code",
      "source": [
        "def printCharacterCounts(inputStr):\n",
        "    counts = countCharacters(inputStr)\n",
        "    outputStr = \"\"\n",
        "    for char in counts:\n",
        "        count = counts[char]\n",
        "        if count == 1:\n",
        "            outputStr += char\n",
        "        else:\n",
        "            outputStr += str(count) + char\n",
        "    return outputStr"
      ],
      "metadata": {
        "id": "Q5h1E-vFE0gT"
      },
      "execution_count": 3,
      "outputs": []
    },
    {
      "cell_type": "markdown",
      "source": [
        "Fungsi untuk menjalankan code"
      ],
      "metadata": {
        "id": "6vLPYcvzFgxI"
      }
    },
    {
      "cell_type": "code",
      "source": [
        "def main(input):\n",
        "    return printCharacterCounts(removeSpaces(changetolowercase(input)))"
      ],
      "metadata": {
        "id": "51-YqEReFgb2"
      },
      "execution_count": 4,
      "outputs": []
    },
    {
      "cell_type": "markdown",
      "source": [
        "Cetak Data"
      ],
      "metadata": {
        "id": "ru0cVn06FnNy"
      }
    },
    {
      "cell_type": "code",
      "source": [
        "input = \"dani Maulana\"\n",
        "print(\"text yang anda masukkan adalah: \"+ input);\n",
        "print(countCharacters(input))\n",
        "output = main(input)\n",
        "print(\"Hasil setelah di kelola: \"+ output);\n",
        "print(\"\")\n",
        "input2 = \"Mas Syahdan Filsafan\"\n",
        "print(\"text yang anda masukkan adalah: \"+ input2);\n",
        "print(countCharacters(input2))\n",
        "output2 = main(input2)\n",
        "print(\"Hasil setelah di kelola: \"+ output2);\n"
      ],
      "metadata": {
        "id": "lIWSIWWy_kfO",
        "outputId": "25a64da3-7124-4161-a6e3-6a5b5bb65a00",
        "colab": {
          "base_uri": "https://localhost:8080/"
        }
      },
      "execution_count": 14,
      "outputs": [
        {
          "output_type": "stream",
          "name": "stdout",
          "text": [
            "text yang anda masukkan adalah: dani Maulana\n",
            "{'d': 1, 'a': 4, 'n': 2, 'i': 1, ' ': 1, 'M': 1, 'u': 1, 'l': 1}\n",
            "Hasil setelah di kelola: d4a2nimul\n",
            "\n",
            "text yang anda masukkan adalah: Mas Syahdan Filsafan\n",
            "{'M': 1, 'a': 5, 's': 2, ' ': 2, 'S': 1, 'y': 1, 'h': 1, 'd': 1, 'n': 2, 'F': 1, 'i': 1, 'l': 1, 'f': 1}\n",
            "Hasil setelah di kelola: m5a3syhd2n2fil\n"
          ]
        }
      ]
    }
  ],
  "metadata": {
    "colab": {
      "toc_visible": true,
      "provenance": [],
      "include_colab_link": true
    },
    "kernelspec": {
      "display_name": "Python 3",
      "name": "python3"
    }
  },
  "nbformat": 4,
  "nbformat_minor": 0
}